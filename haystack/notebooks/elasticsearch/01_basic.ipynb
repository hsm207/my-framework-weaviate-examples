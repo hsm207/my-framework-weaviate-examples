{
 "cells": [
  {
   "attachments": {},
   "cell_type": "markdown",
   "metadata": {},
   "source": [
    "Based on https://haystack.deepset.ai/tutorials/01_basic_qa_pipeline"
   ]
  },
  {
   "attachments": {},
   "cell_type": "markdown",
   "metadata": {},
   "source": [
    "# Set up Document Store"
   ]
  },
  {
   "cell_type": "code",
   "execution_count": 2,
   "metadata": {},
   "outputs": [
    {
     "name": "stderr",
     "output_type": "stream",
     "text": [
      "/usr/local/lib/python3.9/site-packages/elasticsearch/connection/base.py:190: ElasticsearchDeprecationWarning: Elasticsearch built-in security features are not enabled. Without authentication, your cluster could be accessible to anyone. See https://www.elastic.co/guide/en/elasticsearch/reference/7.17/security-minimal-setup.html to enable security.\n",
      "  warnings.warn(message, category=ElasticsearchDeprecationWarning)\n",
      "/usr/local/lib/python3.9/site-packages/elasticsearch/connection/http_urllib3.py:275: DeprecationWarning: HTTPResponse.getheaders() is deprecated and will be removed in urllib3 v2.1.0. Instead access HTTResponse.headers directly.\n",
      "  return response.status, response.getheaders(), raw_data\n"
     ]
    }
   ],
   "source": [
    "import os\n",
    "from haystack.document_stores import ElasticsearchDocumentStore\n",
    "\n",
    "host = os.environ.get(\"ELASTICSEARCH_HOST\", \"elasticsearch\")\n",
    "document_store = ElasticsearchDocumentStore(\n",
    "    host=host, username=\"\", password=\"\", index=\"document\"\n",
    ")\n"
   ]
  },
  {
   "attachments": {},
   "cell_type": "markdown",
   "metadata": {},
   "source": [
    "# Preprocess Documents"
   ]
  },
  {
   "cell_type": "code",
   "execution_count": 4,
   "metadata": {},
   "outputs": [
    {
     "name": "stderr",
     "output_type": "stream",
     "text": [
      "/usr/local/lib/python3.9/site-packages/elasticsearch/connection/base.py:190: ElasticsearchDeprecationWarning: Elasticsearch built-in security features are not enabled. Without authentication, your cluster could be accessible to anyone. See https://www.elastic.co/guide/en/elasticsearch/reference/7.17/security-minimal-setup.html to enable security.\n",
      "  warnings.warn(message, category=ElasticsearchDeprecationWarning)\n",
      "/usr/local/lib/python3.9/site-packages/elasticsearch/connection/http_urllib3.py:275: DeprecationWarning: HTTPResponse.getheaders() is deprecated and will be removed in urllib3 v2.1.0. Instead access HTTResponse.headers directly.\n",
      "  return response.status, response.getheaders(), raw_data\n"
     ]
    }
   ],
   "source": [
    "from haystack.utils import (\n",
    "    clean_wiki_text,\n",
    "    convert_files_to_docs,\n",
    "    fetch_archive_from_http,\n",
    ")\n",
    "\n",
    "\n",
    "# Let's first fetch some documents that we want to query\n",
    "# Here: 517 Wikipedia articles for Game of Thrones\n",
    "doc_dir = \"data/tutorial1\"\n",
    "s3_url = \"https://s3.eu-central-1.amazonaws.com/deepset.ai-farm-qa/datasets/documents/wiki_gameofthrones_txt1.zip\"\n",
    "fetch_archive_from_http(url=s3_url, output_dir=doc_dir)\n",
    "\n",
    "docs = convert_files_to_docs(\n",
    "    dir_path=doc_dir, clean_func=clean_wiki_text, split_paragraphs=True\n",
    ")\n",
    "\n",
    "document_store.write_documents(docs)\n"
   ]
  },
  {
   "attachments": {},
   "cell_type": "markdown",
   "metadata": {},
   "source": [
    "# Initialize Retriever, Reader and Pipeline"
   ]
  },
  {
   "attachments": {},
   "cell_type": "markdown",
   "metadata": {},
   "source": [
    "Retriever:"
   ]
  },
  {
   "cell_type": "code",
   "execution_count": 5,
   "metadata": {},
   "outputs": [],
   "source": [
    "from haystack.nodes import BM25Retriever\n",
    "\n",
    "retriever = BM25Retriever(document_store=document_store)\n"
   ]
  },
  {
   "attachments": {},
   "cell_type": "markdown",
   "metadata": {},
   "source": [
    "Reader:"
   ]
  },
  {
   "cell_type": "code",
   "execution_count": 6,
   "metadata": {},
   "outputs": [
    {
     "name": "stderr",
     "output_type": "stream",
     "text": [
      "Downloading: 100%|██████████| 451/451 [00:00<00:00, 370kB/s]\n",
      "Downloading: 100%|██████████| 265M/265M [00:08<00:00, 32.0MB/s] \n",
      "Downloading: 100%|██████████| 28.0/28.0 [00:00<00:00, 20.5kB/s]\n",
      "Downloading: 100%|██████████| 483/483 [00:00<00:00, 449kB/s]\n",
      "Downloading: 100%|██████████| 232k/232k [00:00<00:00, 25.6MB/s]\n",
      "Downloading: 100%|██████████| 466k/466k [00:00<00:00, 31.4MB/s]\n"
     ]
    }
   ],
   "source": [
    "from haystack.nodes import TransformersReader\n",
    "\n",
    "reader = TransformersReader(\n",
    "    model_name_or_path=\"distilbert-base-uncased-distilled-squad\",\n",
    "    tokenizer=\"distilbert-base-uncased\",\n",
    "    use_gpu=-1,\n",
    ")\n"
   ]
  },
  {
   "cell_type": "markdown",
   "metadata": {},
   "source": [
    "Pipeline:"
   ]
  },
  {
   "cell_type": "code",
   "execution_count": 9,
   "metadata": {},
   "outputs": [],
   "source": [
    "from haystack.pipelines import ExtractiveQAPipeline\n",
    "\n",
    "pipe = ExtractiveQAPipeline(reader, retriever)\n"
   ]
  },
  {
   "attachments": {},
   "cell_type": "markdown",
   "metadata": {},
   "source": [
    "# Ask a question"
   ]
  },
  {
   "cell_type": "code",
   "execution_count": 14,
   "metadata": {},
   "outputs": [
    {
     "name": "stdout",
     "output_type": "stream",
     "text": [
      "\n",
      "Query: Who is the father of Arya Stark?\n",
      "Answers:\n",
      "[   {   'answer': 'Eddard',\n",
      "        'context': 'Nymeria after a legendary warrior queen. She travels with '\n",
      "                   \"her father, Eddard, to King's Landing when he is made Hand \"\n",
      "                   'of the King. Before she leave'},\n",
      "    {   'answer': 'Arry',\n",
      "        'context': 'tch recruits, including Arya Stark (disguised as an orphan '\n",
      "                   \"boy named 'Arry), Lommy Greenhands, Hot Pie and Jaqen \"\n",
      "                   \"H'ghar. During their journey, t\"},\n",
      "    {   'answer': 'Black Walder',\n",
      "        'context': 'med “Lame Lothar” because of his twisted leg. He and his '\n",
      "                   'half-brother Black Walder are sent by their father to '\n",
      "                   'Riverrun to propose a marriage between Lo'},\n",
      "    {   'answer': 'Ned',\n",
      "        'context': '\\n'\n",
      "                   '====Season 1====\\n'\n",
      "                   'Arya accompanies her father Ned and her sister Sansa to '\n",
      "                   \"King's Landing. Before their departure, Arya'\"},\n",
      "    {   'answer': 'Ned Stark',\n",
      "        'context': 'to reveal her true identity, and is surprised to learn she '\n",
      "                   \"is in fact Ned Stark's daughter. After the Goldcloaks get \"\n",
      "                   'help from Ser Amory Lorch and hi'}]\n"
     ]
    }
   ],
   "source": [
    "from haystack.utils import print_answers\n",
    "\n",
    "prediction = pipe.run(\n",
    "    query=\"Who is the father of Arya Stark?\",\n",
    "    params={\"Retriever\": {\"top_k\": 10}, \"Reader\": {\"top_k\": 5}},\n",
    ")\n",
    "\n",
    "\n",
    "print_answers(prediction, details=\"minimum\")\n"
   ]
  }
 ],
 "metadata": {
  "kernelspec": {
   "display_name": "Python 3",
   "language": "python",
   "name": "python3"
  },
  "language_info": {
   "codemirror_mode": {
    "name": "ipython",
    "version": 3
   },
   "file_extension": ".py",
   "mimetype": "text/x-python",
   "name": "python",
   "nbconvert_exporter": "python",
   "pygments_lexer": "ipython3",
   "version": "3.9.16"
  },
  "orig_nbformat": 4,
  "vscode": {
   "interpreter": {
    "hash": "949777d72b0d2535278d3dc13498b2535136f6dfe0678499012e853ee9abcab1"
   }
  }
 },
 "nbformat": 4,
 "nbformat_minor": 2
}
