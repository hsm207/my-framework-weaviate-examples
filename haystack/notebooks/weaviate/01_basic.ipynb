{
 "cells": [
  {
   "attachments": {},
   "cell_type": "markdown",
   "metadata": {},
   "source": [
    "Based on https://haystack.deepset.ai/tutorials/01_basic_qa_pipeline"
   ]
  },
  {
   "attachments": {},
   "cell_type": "markdown",
   "metadata": {},
   "source": [
    "# Set up Document Store"
   ]
  },
  {
   "cell_type": "code",
   "execution_count": 1,
   "metadata": {},
   "outputs": [
    {
     "name": "stderr",
     "output_type": "stream",
     "text": [
      "/usr/local/lib/python3.9/site-packages/tqdm/auto.py:22: TqdmWarning: IProgress not found. Please update jupyter and ipywidgets. See https://ipywidgets.readthedocs.io/en/stable/user_install.html\n",
      "  from .autonotebook import tqdm as notebook_tqdm\n",
      "ERROR:root:`libsndfile` not found, it's probably not installed. The node will most likely crash. Please install soundfile's dependencies (https://python-soundfile.readthedocs.io/en/latest/)\n",
      "Traceback (most recent call last):\n",
      "  File \"/usr/local/lib/python3.9/site-packages/soundfile.py\", line 151, in <module>\n",
      "    raise OSError('sndfile library not found')\n",
      "OSError: sndfile library not found\n",
      "\n",
      "During handling of the above exception, another exception occurred:\n",
      "\n",
      "Traceback (most recent call last):\n",
      "  File \"/usr/local/lib/python3.9/site-packages/soundfile.py\", line 178, in <module>\n",
      "    _snd = _ffi.dlopen(_os.path.join(_path, '_soundfile_data', _packaged_libname))\n",
      "OSError: cannot load library '/usr/local/lib/python3.9/site-packages/_soundfile_data/libsndfile.so': /usr/local/lib/python3.9/site-packages/_soundfile_data/libsndfile.so: cannot open shared object file: No such file or directory\n",
      "\n",
      "During handling of the above exception, another exception occurred:\n",
      "\n",
      "Traceback (most recent call last):\n",
      "  File \"/workspaces/haystack/haystack/haystack/nodes/audio/_text_to_speech.py\", line 12, in <module>\n",
      "    import soundfile as sf\n",
      "  File \"/usr/local/lib/python3.9/site-packages/soundfile.py\", line 189, in <module>\n",
      "    _snd = _ffi.dlopen(_libname)\n",
      "OSError: cannot load library 'libsndfile.so': libsndfile.so: cannot open shared object file: No such file or directory\n",
      "/usr/local/lib/python3.9/site-packages/pydub/utils.py:170: RuntimeWarning: Couldn't find ffmpeg or avconv - defaulting to ffmpeg, but may not work\n",
      "  warn(\"Couldn't find ffmpeg or avconv - defaulting to ffmpeg, but may not work\", RuntimeWarning)\n"
     ]
    }
   ],
   "source": [
    "from haystack.document_stores import WeaviateDocumentStore\n",
    "\n",
    "document_store = WeaviateDocumentStore(\n",
    "    host=\"http://weaviate\", index=\"document\", similarity=\"dot_product\"\n",
    ")\n"
   ]
  },
  {
   "attachments": {},
   "cell_type": "markdown",
   "metadata": {},
   "source": [
    "# Preprocess Documents"
   ]
  },
  {
   "cell_type": "code",
   "execution_count": 2,
   "metadata": {},
   "outputs": [
    {
     "name": "stderr",
     "output_type": "stream",
     "text": [
      "WARNING:haystack.document_stores.weaviate:Document id 4e92aa10b61a55992b5f7090cdd30f1d is not in uuid format. Such ids will be replaced by uuids, in this case 825fa533-112c-d526-89d9-8203486bd811.\n",
      "WARNING:haystack.document_stores.weaviate:No embedding found in Document object being written into Weaviate. A dummy embedding is being supplied so that indexing can still take place. This embedding should be overwritten in order to perform vector similarity searches.\n",
      "  0%|          | 0/2497 [00:00<?, ?it/s]/usr/local/lib/python3.9/site-packages/weaviate/batch/crud_batch.py:750: RuntimeWarning: You are manually batching this means you are NOT using the client's built-in multi-threading. Setting `batch_size` in `client.batch.configure()` to an int value will enabled this. Also see: https://weaviate.io/developers/weaviate/current/restful-api-references/batch.html#example-request-1\n",
      "  warnings.warn(\n",
      "10000it [00:03, 3123.13it/s]            \n"
     ]
    }
   ],
   "source": [
    "from haystack.utils import (\n",
    "    clean_wiki_text,\n",
    "    convert_files_to_docs,\n",
    "    fetch_archive_from_http,\n",
    ")\n",
    "\n",
    "\n",
    "# Let's first fetch some documents that we want to query\n",
    "# Here: 517 Wikipedia articles for Game of Thrones\n",
    "doc_dir = \"data/tutorial1\"\n",
    "s3_url = \"https://s3.eu-central-1.amazonaws.com/deepset.ai-farm-qa/datasets/documents/wiki_gameofthrones_txt1.zip\"\n",
    "fetch_archive_from_http(url=s3_url, output_dir=doc_dir)\n",
    "\n",
    "docs = convert_files_to_docs(\n",
    "    dir_path=doc_dir, clean_func=clean_wiki_text, split_paragraphs=True\n",
    ")\n",
    "\n",
    "document_store.write_documents(docs)\n"
   ]
  },
  {
   "attachments": {},
   "cell_type": "markdown",
   "metadata": {},
   "source": [
    "# Initialize Retriever, Reader and Pipeline"
   ]
  },
  {
   "attachments": {},
   "cell_type": "markdown",
   "metadata": {},
   "source": [
    "Retriever:"
   ]
  },
  {
   "cell_type": "code",
   "execution_count": 3,
   "metadata": {},
   "outputs": [
    {
     "name": "stderr",
     "output_type": "stream",
     "text": [
      "WARNING:haystack.nodes.retriever._embedding_encoder:You seem to be using sentence-transformers/multi-qa-mpnet-base-dot-v1 model with the dot function instead of the recommended dot_product. This can be set when initializing the DocumentStore\n",
      "Batches: 100%|██████████| 74/74 [02:09<00:00,  1.75s/it]\n"
     ]
    }
   ],
   "source": [
    "from haystack.nodes import EmbeddingRetriever\n",
    "\n",
    "retriever = EmbeddingRetriever(\n",
    "    document_store=document_store,\n",
    "    embedding_model=\"sentence-transformers/multi-qa-mpnet-base-dot-v1\",\n",
    "    model_format=\"sentence_transformers\",\n",
    ")\n",
    "\n",
    "document_store.update_embeddings(retriever)\n"
   ]
  },
  {
   "attachments": {},
   "cell_type": "markdown",
   "metadata": {},
   "source": [
    "Reader:"
   ]
  },
  {
   "cell_type": "code",
   "execution_count": 4,
   "metadata": {},
   "outputs": [],
   "source": [
    "from haystack.nodes import TransformersReader\n",
    "\n",
    "reader = TransformersReader(\n",
    "    model_name_or_path=\"distilbert-base-uncased-distilled-squad\",\n",
    "    tokenizer=\"distilbert-base-uncased\",\n",
    "    use_gpu=-1,\n",
    ")\n"
   ]
  },
  {
   "cell_type": "markdown",
   "metadata": {},
   "source": [
    "Pipeline:"
   ]
  },
  {
   "cell_type": "code",
   "execution_count": 5,
   "metadata": {},
   "outputs": [],
   "source": [
    "from haystack.pipelines import ExtractiveQAPipeline\n",
    "\n",
    "pipe = ExtractiveQAPipeline(reader, retriever)\n"
   ]
  },
  {
   "attachments": {},
   "cell_type": "markdown",
   "metadata": {},
   "source": [
    "# Ask a question"
   ]
  },
  {
   "cell_type": "code",
   "execution_count": 6,
   "metadata": {},
   "outputs": [
    {
     "name": "stderr",
     "output_type": "stream",
     "text": [
      "Batches: 100%|██████████| 1/1 [00:00<00:00, 85.14it/s]\n"
     ]
    },
    {
     "name": "stdout",
     "output_type": "stream",
     "text": [
      "\n",
      "Query: Who is the father of Arya Stark?\n",
      "Answers:\n",
      "[   {   'answer': 'Maisie Williams',\n",
      "        'context': 'f sword fighting by Syrio Forel.\\n'\n",
      "                   'Arya is portrayed by English actress Maisie Williams in '\n",
      "                   \"HBO's Emmy-winning television adaptation of the novel \"\n",
      "                   \"series, ''Ga\"},\n",
      "    {   'answer': 'Eddard and Catelyn Stark',\n",
      "        'context': '\\n'\n",
      "                   '=== Robb Stark ===\\n'\n",
      "                   'Robb Stark is the oldest child of Eddard and Catelyn '\n",
      "                   'Stark, and the heir to Winterfell. He is not a POV '\n",
      "                   'character, but features '},\n",
      "    {   'answer': 'Eddard and Catelyn Stark',\n",
      "        'context': ' Arya Stark ===\\n'\n",
      "                   'Arya Stark is the third child and younger daughter of '\n",
      "                   'Eddard and Catelyn Stark. She serves as a POV character '\n",
      "                   \"for 33 chapters throughout ''A Game of\"},\n",
      "    {   'answer': 'Eddard and Catelyn Stark',\n",
      "        'context': '\\n'\n",
      "                   '=== Background ===\\n'\n",
      "                   'Arya is the third child and younger daughter of Eddard and '\n",
      "                   'Catelyn Stark and is nine years old at the beginning of '\n",
      "                   'the book series.  She has f'},\n",
      "    {   'answer': 'Balon Greyjoy',\n",
      "        'context': ' He sends Theon to the Iron Islands hoping to broker an '\n",
      "                   \"alliance with Balon Greyjoy, Theon's father. In exchange \"\n",
      "                   'for Greyjoy support, Robb as the King in'}]\n"
     ]
    }
   ],
   "source": [
    "from haystack.utils import print_answers\n",
    "\n",
    "prediction = pipe.run(\n",
    "    query=\"Who is the father of Arya Stark?\",\n",
    "    params={\"Retriever\": {\"top_k\": 10}, \"Reader\": {\"top_k\": 5}},\n",
    ")\n",
    "\n",
    "\n",
    "print_answers(prediction, details=\"minimum\")\n"
   ]
  }
 ],
 "metadata": {
  "kernelspec": {
   "display_name": "Python 3",
   "language": "python",
   "name": "python3"
  },
  "language_info": {
   "codemirror_mode": {
    "name": "ipython",
    "version": 3
   },
   "file_extension": ".py",
   "mimetype": "text/x-python",
   "name": "python",
   "nbconvert_exporter": "python",
   "pygments_lexer": "ipython3",
   "version": "3.9.16"
  },
  "orig_nbformat": 4,
  "vscode": {
   "interpreter": {
    "hash": "949777d72b0d2535278d3dc13498b2535136f6dfe0678499012e853ee9abcab1"
   }
  }
 },
 "nbformat": 4,
 "nbformat_minor": 2
}
