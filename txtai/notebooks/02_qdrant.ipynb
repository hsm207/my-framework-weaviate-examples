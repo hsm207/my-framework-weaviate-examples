{
 "cells": [
  {
   "cell_type": "markdown",
   "metadata": {},
   "source": [
    "Based on https://github.com/neuml/txtai/blob/master/examples/02_Build_an_Embeddings_index_with_Hugging_Face_Datasets.ipynb"
   ]
  },
  {
   "cell_type": "markdown",
   "metadata": {},
   "source": [
    "# Setup "
   ]
  },
  {
   "cell_type": "code",
   "execution_count": 1,
   "metadata": {},
   "outputs": [],
   "source": [
    "from datasets import load_dataset\n",
    "\n",
    "from txtai.embeddings import Embeddings\n",
    "from txtai.pipeline import Similarity\n",
    "\n",
    "from IPython import display\n"
   ]
  },
  {
   "cell_type": "code",
   "execution_count": 2,
   "metadata": {},
   "outputs": [],
   "source": [
    "def stream(dataset, field, limit):\n",
    "    index = 0\n",
    "    for row in dataset:\n",
    "        yield (index, row[field], None)\n",
    "        index += 1\n",
    "\n",
    "        if index >= limit:\n",
    "            break\n",
    "\n",
    "\n",
    "def search(query):\n",
    "    return embeddings.search(query, limit=50)\n",
    "\n",
    "\n",
    "# similarity takes a query and a list of texts\n",
    "# def ranksearch(query):\n",
    "#     results = [text for _, text in search(query)]\n",
    "#     return [(score, results[x]) for x, score in similarity(query, results)]\n"
   ]
  },
  {
   "cell_type": "markdown",
   "metadata": {},
   "source": [
    "# Dataset"
   ]
  },
  {
   "cell_type": "code",
   "execution_count": 3,
   "metadata": {},
   "outputs": [
    {
     "name": "stderr",
     "output_type": "stream",
     "text": [
      "Found cached dataset ag_news (/root/.cache/huggingface/datasets/ag_news/default/0.0.0/bc2bcb40336ace1a0374767fc29bb0296cdaf8a6da7298436239c54d79180548)\n"
     ]
    }
   ],
   "source": [
    "dataset = load_dataset(\"ag_news\", split=\"train\")\n"
   ]
  },
  {
   "cell_type": "markdown",
   "metadata": {},
   "source": [
    "# Indexing"
   ]
  },
  {
   "cell_type": "code",
   "execution_count": 4,
   "metadata": {},
   "outputs": [],
   "source": [
    "num_docs = 100\n",
    "\n",
    "embeddings = Embeddings(\n",
    "    {\n",
    "        \"path\": \"sentence-transformers/all-MiniLM-L6-v2\",\n",
    "        \"backend\": \"qdrant_txtai.ann.qdrant.Qdrant\",\n",
    "        \"qdrant\": {\n",
    "            \"host\": \"qdrant\"\n",
    "        }\n",
    "    }\n",
    ")\n",
    "embeddings.index(stream(dataset, \"text\", num_docs))\n"
   ]
  },
  {
   "cell_type": "markdown",
   "metadata": {},
   "source": [
    "# Reranking"
   ]
  },
  {
   "cell_type": "code",
   "execution_count": 5,
   "metadata": {},
   "outputs": [],
   "source": [
    "# not applicable to qdrant since search returns (id, score) and no \"text\"\n",
    "\n",
    "# similarity = Similarity(\"valhalla/distilbart-mnli-12-3\")\n"
   ]
  },
  {
   "cell_type": "markdown",
   "metadata": {},
   "source": [
    "# Search"
   ]
  },
  {
   "cell_type": "code",
   "execution_count": 6,
   "metadata": {},
   "outputs": [],
   "source": [
    "queries = [\n",
    "    \"Positive Apple reports\",\n",
    "    \"Negative Apple reports\",\n",
    "    \"Best planets to explore for life\",\n",
    "    \"LA Dodgers good news\",\n",
    "    \"LA Dodgers bad news\",\n",
    "]\n"
   ]
  },
  {
   "cell_type": "code",
   "execution_count": 7,
   "metadata": {},
   "outputs": [
    {
     "name": "stdout",
     "output_type": "stream",
     "text": [
      "Positive Apple reports\n",
      "[(73, 0.35510775), (51, 0.35448885), (7, 0.33826345), (85, 0.33634022), (49, 0.30569416), (83, 0.303743), (88, 0.3023945), (86, 0.29291403), (82, 0.27456617), (78, 0.26397276), (5, 0.24335706), (81, 0.24180745), (27, 0.23923783), (36, 0.22436482), (1, 0.21463366), (79, 0.20670545), (39, 0.20071876), (71, 0.19698218), (41, 0.19376302), (31, 0.1936928), (2, 0.18801743), (67, 0.17827374), (70, 0.1714298), (38, 0.17018963), (6, 0.16622469), (0, 0.16589355), (72, 0.16167642), (10, 0.16092366), (14, 0.15391365), (30, 0.15381524), (84, 0.15273768), (99, 0.15183601), (37, 0.14511038), (52, 0.14319141), (42, 0.14136688), (74, 0.13916151), (13, 0.13913164), (80, 0.13793717), (18, 0.13407096), (33, 0.13330953), (4, 0.124894366), (40, 0.12336382), (87, 0.12323387), (68, 0.11771364), (92, 0.11617284), (47, 0.11434842), (60, 0.107100256), (57, 0.10663518), (77, 0.10631414), (76, 0.10312337)]\n",
      "Negative Apple reports\n",
      "[(7, 0.3375751), (73, 0.32395706), (51, 0.30255818), (82, 0.29322645), (88, 0.262086), (49, 0.2507424), (78, 0.24716038), (27, 0.24509946), (83, 0.24229941), (5, 0.22928134), (85, 0.2128438), (41, 0.19461864), (39, 0.17963162), (6, 0.17703682), (86, 0.17662519), (67, 0.17595503), (71, 0.17226493), (42, 0.17108433), (36, 0.16630216), (70, 0.14860599), (81, 0.1441586), (31, 0.1429062), (38, 0.14200008), (60, 0.14011186), (30, 0.1389848), (14, 0.13737917), (2, 0.13418977), (1, 0.13192385), (37, 0.13026007), (99, 0.12853396), (40, 0.12791602), (13, 0.12509994), (80, 0.123821706), (0, 0.12294122), (10, 0.114576146), (18, 0.1137952), (74, 0.11040687), (57, 0.10981172), (54, 0.109392114), (47, 0.106074676), (4, 0.10418654), (84, 0.09644999), (72, 0.09579387), (68, 0.0952804), (17, 0.08955549), (9, 0.08404058), (45, 0.08330722), (33, 0.0826275), (19, 0.07913649), (22, 0.07601141)]\n"
     ]
    }
   ],
   "source": [
    "for query in queries[:2]:\n",
    "    print(query)\n",
    "    print(search(query))\n"
   ]
  }
 ],
 "metadata": {
  "kernelspec": {
   "display_name": "Python 3 (ipykernel)",
   "language": "python",
   "name": "python3"
  },
  "language_info": {
   "codemirror_mode": {
    "name": "ipython",
    "version": 3
   },
   "file_extension": ".py",
   "mimetype": "text/x-python",
   "name": "python",
   "nbconvert_exporter": "python",
   "pygments_lexer": "ipython3",
   "version": "3.9.16"
  },
  "vscode": {
   "interpreter": {
    "hash": "949777d72b0d2535278d3dc13498b2535136f6dfe0678499012e853ee9abcab1"
   }
  }
 },
 "nbformat": 4,
 "nbformat_minor": 4
}
