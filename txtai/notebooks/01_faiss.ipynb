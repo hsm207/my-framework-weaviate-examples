{
 "cells": [
  {
   "cell_type": "markdown",
   "metadata": {},
   "source": [
    "Based on https://github.com/neuml/txtai/blob/master/examples/02_Build_an_Embeddings_index_with_Hugging_Face_Datasets.ipynb"
   ]
  },
  {
   "cell_type": "markdown",
   "metadata": {},
   "source": [
    "# Setup "
   ]
  },
  {
   "cell_type": "code",
   "execution_count": 1,
   "metadata": {},
   "outputs": [],
   "source": [
    "from datasets import load_dataset\n",
    "\n",
    "from txtai.embeddings import Embeddings\n",
    "from txtai.pipeline import Similarity\n",
    "\n",
    "from IPython import display\n"
   ]
  },
  {
   "cell_type": "code",
   "execution_count": 2,
   "metadata": {},
   "outputs": [],
   "source": [
    "def stream(dataset, field, limit):\n",
    "    index = 0\n",
    "    for row in dataset:\n",
    "        yield (index, row[field], None)\n",
    "        index += 1\n",
    "\n",
    "        if index >= limit:\n",
    "            break\n",
    "\n",
    "\n",
    "def search(query):\n",
    "    return [\n",
    "        (result[\"score\"], result[\"text\"])\n",
    "        for result in embeddings.search(query, limit=50)\n",
    "    ]\n",
    "\n",
    "\n",
    "def ranksearch(query):\n",
    "    results = [text for _, text in search(query)]\n",
    "    return [(score, results[x]) for x, score in similarity(query, results)]\n"
   ]
  },
  {
   "cell_type": "markdown",
   "metadata": {},
   "source": [
    "# Dataset"
   ]
  },
  {
   "cell_type": "code",
   "execution_count": 3,
   "metadata": {},
   "outputs": [
    {
     "name": "stderr",
     "output_type": "stream",
     "text": [
      "Found cached dataset ag_news (/root/.cache/huggingface/datasets/ag_news/default/0.0.0/bc2bcb40336ace1a0374767fc29bb0296cdaf8a6da7298436239c54d79180548)\n"
     ]
    }
   ],
   "source": [
    "dataset = load_dataset(\"ag_news\", split=\"train\")\n"
   ]
  },
  {
   "cell_type": "markdown",
   "metadata": {},
   "source": [
    "# Indexing"
   ]
  },
  {
   "cell_type": "code",
   "execution_count": 4,
   "metadata": {},
   "outputs": [],
   "source": [
    "num_docs = 100\n",
    "embeddings = Embeddings(\n",
    "    {\"path\": \"sentence-transformers/paraphrase-MiniLM-L3-v2\", \"content\": True}\n",
    ")\n",
    "embeddings.index(stream(dataset, \"text\", num_docs))\n"
   ]
  },
  {
   "cell_type": "markdown",
   "metadata": {},
   "source": [
    "# Reranking"
   ]
  },
  {
   "cell_type": "code",
   "execution_count": 5,
   "metadata": {},
   "outputs": [],
   "source": [
    "similarity = Similarity(\"valhalla/distilbart-mnli-12-3\")\n"
   ]
  },
  {
   "cell_type": "markdown",
   "metadata": {},
   "source": [
    "# Search"
   ]
  },
  {
   "cell_type": "code",
   "execution_count": 6,
   "metadata": {},
   "outputs": [],
   "source": [
    "queries = [\n",
    "    \"Positive Apple reports\",\n",
    "    \"Negative Apple reports\",\n",
    "    \"Best planets to explore for life\",\n",
    "    \"LA Dodgers good news\",\n",
    "    \"LA Dodgers bad news\",\n",
    "]\n"
   ]
  },
  {
   "cell_type": "code",
   "execution_count": 7,
   "metadata": {},
   "outputs": [
    {
     "name": "stdout",
     "output_type": "stream",
     "text": [
      "Positive Apple reports\n",
      "[(0.8435829877853394, 'Apple to open second Japanese retail store this month (MacCentral) MacCentral - Apple Computer Inc. will open its second Japanese retail store later this month in the western Japanese city of Osaka, it said Thursday.'), (0.396741658449173, \"Researchers seek to untangle the e-mail thread E-mail is a victim of its own success. That's the conclusion of IBM Corp. researchers in Cambridge, who have spent nearly a decade conducting field tests at IBM and other companies about how employees work and use electronic mail. It's clear to them that e-mail has become the Internet's killer application.\")]\n",
      "Negative Apple reports\n",
      "[(0.5658772587776184, \"Hacker Cracks Apple's Streaming Technology (AP) AP - The Norwegian hacker famed for developing DVD encryption-cracking software has apparently struck again  #151; this time breaking the locks on Apple Computer Inc.'s wireless music streaming technology.\"), (0.5205283761024475, \"Dutch Firm Beats Apple to Punch A music retailer from the Netherlands beats Apple by launching a download service in Europe's latest market battleground. Also: Movie industry wrests agreement from defunct company.... Microsoft challenges Photoshop   hellip;. and more.\")]\n"
     ]
    }
   ],
   "source": [
    "for query in queries[:2]:\n",
    "    print(query)\n",
    "    print(ranksearch(query)[:2])\n"
   ]
  },
  {
   "cell_type": "code",
   "execution_count": 9,
   "metadata": {},
   "outputs": [
    {
     "name": "stdout",
     "output_type": "stream",
     "text": [
      "[{'id': '0', 'text': 'Correct', 'score': 0.5179595947265625}]\n"
     ]
    }
   ],
   "source": [
    "\n",
    "embeddings.index([(0, \"Correct\", None), (1, \"Not what we hoped\", None)])\n",
    "result = embeddings.search(\"positive\", 1)\n",
    "print(result)"
   ]
  },
  {
   "cell_type": "code",
   "execution_count": 8,
   "metadata": {},
   "outputs": [
    {
     "data": {
      "text/plain": [
       "[{'id': '88',\n",
       "  'text': 'Apple to open second Japanese retail store this month (MacCentral) MacCentral - Apple Computer Inc. will open its second Japanese retail store later this month in the western Japanese city of Osaka, it said Thursday.',\n",
       "  'score': 0.39304929971694946},\n",
       " {'id': '39',\n",
       "  'text': 'Microsoft Corp. 2.0: a kinder corporate culture Even a genius can mess up. Bill Gates was a brilliant technologist when he cofounded Microsoft , but as he guided it to greatness in both size and historical consequence, he blundered. He terrorized underlings with his temper and parceled out praise like Scrooge gave to charity. Only the lash inspired the necessary aggressiveness to beat the competition, he thought.',\n",
       "  'score': 0.3433215618133545},\n",
       " {'id': '83',\n",
       "  'text': \"Hacker Cracks Apple's Streaming Technology (AP) AP - The Norwegian hacker famed for developing DVD encryption-cracking software has apparently struck again  #151; this time breaking the locks on Apple Computer Inc.'s wireless music streaming technology.\",\n",
       "  'score': 0.3029925525188446},\n",
       " {'id': '73',\n",
       "  'text': \"Dutch Firm Beats Apple to Punch A music retailer from the Netherlands beats Apple by launching a download service in Europe's latest market battleground. Also: Movie industry wrests agreement from defunct company.... Microsoft challenges Photoshop   hellip;. and more.\",\n",
       "  'score': 0.27524176239967346},\n",
       " {'id': '51',\n",
       "  'text': \"Delightful Dell The company's results show that it's not grim all over tech world. Just all of it that isn't Dell.\",\n",
       "  'score': 0.263426810503006},\n",
       " {'id': '85',\n",
       "  'text': 'Open Source Apps Developer SugarCRM Releases Sugar.Sales 1.1 (TechWeb) TechWeb - News - August 13, 2004',\n",
       "  'score': 0.2502918243408203},\n",
       " {'id': '5',\n",
       "  'text': 'Stocks End Up, But Near Year Lows (Reuters) Reuters - Stocks ended slightly higher on Friday\\\\but stayed near lows for the year as oil prices surged past  #36;46\\\\a barrel, offsetting a positive outlook from computer maker\\\\Dell Inc. (DELL.O)',\n",
       "  'score': 0.21053311228752136},\n",
       " {'id': '7',\n",
       "  'text': 'Fed minutes show dissent over inflation (USATODAY.com) USATODAY.com - Retail sales bounced back a bit in July, and new claims for jobless benefits fell last week, the government said Thursday, indicating the economy is improving from a midsummer slump.',\n",
       "  'score': 0.1956169307231903},\n",
       " {'id': '90',\n",
       "  'text': \"Science, Politics Collide in Election Year (AP) AP - With more than 4,000 scientists, including 48 Nobel Prize winners, having signed a statement opposing the Bush administration's use of scientific advice, this election year is seeing a new development in the uneasy relationship between science and politics.\",\n",
       "  'score': 0.17734774947166443},\n",
       " {'id': '41',\n",
       "  'text': \"Somewhere between gleam and gloom President Bush has been saying that the US economy has ''turned the corner. quot; Democratic presidential candidate Senator John F. Kerry, in the wake of this month's poor jobs report, quipped that it was more like a U-turn.\",\n",
       "  'score': 0.17130504548549652},\n",
       " {'id': '0',\n",
       "  'text': \"Wall St. Bears Claw Back Into the Black (Reuters) Reuters - Short-sellers, Wall Street's dwindling\\\\band of ultra-cynics, are seeing green again.\",\n",
       "  'score': 0.1695830225944519},\n",
       " {'id': '9',\n",
       "  'text': \"Wall St. Bears Claw Back Into the Black  NEW YORK (Reuters) - Short-sellers, Wall Street's dwindling  band of ultra-cynics, are seeing green again.\",\n",
       "  'score': 0.1664261817932129},\n",
       " {'id': '76',\n",
       "  'text': \"Paid Search Growth May Slow A new Internet advertising forecast shows a slowdown in paid search listings in the next five years. Will the projection affect Google's prospects when it goes public?\",\n",
       "  'score': 0.1640283614397049},\n",
       " {'id': '22',\n",
       "  'text': 'Expansion slows in Japan Economic growth in Japan slows down as the country experiences a drop in domestic and corporate spending.',\n",
       "  'score': 0.15746454894542694},\n",
       " {'id': '52',\n",
       "  'text': \"Chrysler's Bling King After a tough year, Detroit's troubled carmaker is back -- thanks to a maverick designer and a car that is dazzling the hip-hop crowd\",\n",
       "  'score': 0.15298432111740112},\n",
       " {'id': '96',\n",
       "  'text': 'Dolphins Too Have Born Socialites (Reuters) Reuters - Some people are born to be the life and\\\\soul of the party -- and so it seems are some dolphins.',\n",
       "  'score': 0.14383451640605927},\n",
       " {'id': '94',\n",
       "  'text': 'T. Rex Had Teen Growth Spurt, Scientists Say (Reuters) Reuters - Tyrannosaurus Rex grew incredibly fast\\\\during a teenaged growth spurt that saw the dinosaur expand its\\\\bulk by six times, but the fearsome beasts \"lived fast and died\\\\young,\" researchers said on Wednesday.',\n",
       "  'score': 0.13848678767681122},\n",
       " {'id': '14',\n",
       "  'text': \"Dollar Falls Broadly on Record Trade Gap  NEW YORK (Reuters) - The dollar tumbled broadly on Friday  after data showing a record U.S. trade deficit in June cast  fresh doubts on the economy's recovery and its ability to draw  foreign capital to fund the growing gap.\",\n",
       "  'score': 0.13443532586097717},\n",
       " {'id': '8',\n",
       "  'text': 'Safety Net (Forbes.com) Forbes.com - After earning a PH.D. in Sociology, Danny Bazil Riley started to work as the general manager at a commercial real estate firm at an annual base salary of  #36;70,000. Soon after, a financial planner stopped by his desk to drop off brochures about insurance benefits available through his employer. But, at 32, \"buying insurance was the furthest thing from my mind,\" says Riley.',\n",
       "  'score': 0.12454228103160858},\n",
       " {'id': '97',\n",
       "  'text': \"What's in a Name? Well, Matt Is Sexier Than Paul (Reuters) Reuters - As Shakespeare said, a rose by any other\\\\name would smell as sweet. Right?\",\n",
       "  'score': 0.1200263649225235},\n",
       " {'id': '82',\n",
       "  'text': 'Missing June Deals Slow to Return for Software Cos. (Reuters) Reuters - The mystery of what went wrong for the\\\\software industry in late June when sales stalled at more than\\\\20 brand-name companies is not even close to being solved\\\\although the third quarter is nearly halfway over.',\n",
       "  'score': 0.1167101040482521},\n",
       " {'id': '30',\n",
       "  'text': 'Japan nuclear firm shuts plants The company running the Japanese nuclear plant hit by a fatal accident is to close its reactors for safety checks.',\n",
       "  'score': 0.11512324213981628},\n",
       " {'id': '81',\n",
       "  'text': 'Companies Approve New High-Capacity Disc Format (Reuters) Reuters - A group of consumer electronics\\\\makers said on Wednesday they approved the format for a new\\\\generation of discs that can store five times the data of DVDs\\\\at the same cost -- enough to put a full season of \"The\\\\Sopranos\" on one disc.',\n",
       "  'score': 0.11311670392751694},\n",
       " {'id': '74',\n",
       "  'text': 'HP to Buy Synstar Hewlett-Packard will pay \\\\$297 million for the British company. Also: TiVo goes all out to attract customers   hellip;. Sprint offers service guarantees for business wireless subscribers   hellip;. and more.',\n",
       "  'score': 0.11179724335670471},\n",
       " {'id': '49',\n",
       "  'text': 'Quality Gets Swept Away Quality Distribution is hammered after reporting a large loss for the second quarter.',\n",
       "  'score': 0.11133177578449249},\n",
       " {'id': '35',\n",
       "  'text': 'Steady as they go BEDFORD -- Scientists at NitroMed Inc. hope their experimental drugs will cure heart disease someday. But lately their focus has been on more mundane matters.',\n",
       "  'score': 0.10785619169473648},\n",
       " {'id': '16',\n",
       "  'text': 'Kids Rule for Back-to-School The purchasing power of kids is a big part of why the back-to-school season has become such a huge marketing phenomenon.',\n",
       "  'score': 0.10724906623363495},\n",
       " {'id': '17',\n",
       "  'text': \"In a Down Market, Head Toward Value Funds There is little cause for celebration in the stock market these days, but investors in value-focused mutual funds have reason to feel a bit smug -- if only because they've lost less than the folks who stuck with growth.\",\n",
       "  'score': 0.10614880174398422},\n",
       " {'id': '38',\n",
       "  'text': \"Researchers seek to untangle the e-mail thread E-mail is a victim of its own success. That's the conclusion of IBM Corp. researchers in Cambridge, who have spent nearly a decade conducting field tests at IBM and other companies about how employees work and use electronic mail. It's clear to them that e-mail has become the Internet's killer application.\",\n",
       "  'score': 0.10446935147047043},\n",
       " {'id': '54',\n",
       "  'text': \"The Age of Doom In 1993 six geeks had a digital nightmare that changed the culture. It's about to get far creepier\",\n",
       "  'score': 0.10317464172840118},\n",
       " {'id': '37',\n",
       "  'text': \"A bargain hunter's paradise Massachusetts bargain hunters showed up in droves and shopped hard on yesterday's sales tax holiday, buying everything from treadmills and snow blowers to candles and chandeliers, and crediting the 5-percent tax break with bringing them into the stores.\",\n",
       "  'score': 0.10284149646759033},\n",
       " {'id': '86',\n",
       "  'text': \"Oracle Sales Data Seen Being Released (Reuters) Reuters - Oracle Corp. sales documents\\\\detailing highly confidential information, such as which\\\\companies receive discounts on Oracle's business software\\\\products and the size of the discounts, are likely to be made\\\\public, a federal judge said on Friday.\",\n",
       "  'score': 0.09735885262489319},\n",
       " {'id': '95',\n",
       "  'text': 'Gene Blocker Turns Monkeys Into Workaholics - Study (Reuters) Reuters - Procrastinating monkeys were turned\\\\into workaholics using a gene treatment to block a key brain\\\\compound, U.S. researchers reported on Wednesday.',\n",
       "  'score': 0.09657526016235352},\n",
       " {'id': '71',\n",
       "  'text': \"Play Boys: Google IPO a Go Anyway Even though Google's two founders gave an interview to Playboy magazine in the midst of its IPO filing, the SEC allowed the company's offering to go ahead. The boys filed the interview with the SEC and corrected mistakes in it.\",\n",
       "  'score': 0.09526626765727997},\n",
       " {'id': '60',\n",
       "  'text': 'Oldsmobile: The final parking lot Why General Motors dropped the Oldsmobile. The four brand  paradoxes GM had to face - the name, the product, image re-positioning, and the consumer - all added up to a brand that had little hope of rebranding.',\n",
       "  'score': 0.09519490599632263},\n",
       " {'id': '47',\n",
       "  'text': \"Switching Titles, if Not Gears, at Dell Kevin B. Rollins, the new chief executive of Dell, talks about Dell's transitory slip in customer service, and why he sees a broader technology recovery taking place.\",\n",
       "  'score': 0.09274928271770477},\n",
       " {'id': '78',\n",
       "  'text': '\\'Madden,\\' \\'ESPN\\' Football Score in Different Ways (Reuters) Reuters - Was absenteeism a little high\\\\on Tuesday among the guys at the office? EA Sports would like\\\\to think it was because \"Madden NFL 2005\" came out that day,\\\\and some fans of the football simulation are rabid enough to\\\\take a sick day to play it.',\n",
       "  'score': 0.09012269973754883},\n",
       " {'id': '67',\n",
       "  'text': 'IT Myth 5: Most IT projects fail Do most IT projects fail? Some point to the number of giant consultancies such as IBM Global Services, Capgemini, and Sapient, who feed off bad experiences encountered by enterprises. Sapient is a company founded on the realization that IT projects are not successful, says Sapient CTO Ben Gaucherin.',\n",
       "  'score': 0.08798524737358093},\n",
       " {'id': '27',\n",
       "  'text': 'HP shares tumble on profit news Hewlett-Packard shares fall after disappointing third-quarter profits, while the firm warns the final quarter will also fall short of expectations.',\n",
       "  'score': 0.08727063983678818},\n",
       " {'id': '10',\n",
       "  'text': \"Oil and Economy Cloud Stocks' Outlook  NEW YORK (Reuters) - Soaring crude prices plus worries  about the economy and the outlook for earnings are expected to  hang over the stock market next week during the depth of the  summer doldrums.\",\n",
       "  'score': 0.07769395411014557},\n",
       " {'id': '36',\n",
       "  'text': \"Google IPO: Type in 'confusing,' 'secrecy' I've submitted my bid to buy shares of Google Inc. in the computer search company's giant auction-style initial public offering. That could turn out to be the good news or the bad news.\",\n",
       "  'score': 0.07669799029827118},\n",
       " {'id': '72',\n",
       "  'text': \"More Big Boobs in Playboy An interview with Google's co-founders due out in the current issue of Playboy may delay the company's IPO. Securities regulations restrict what executives can say while preparing to sell stock for the first time.\",\n",
       "  'score': 0.06843394786119461},\n",
       " {'id': '87',\n",
       "  'text': \"Sun's Looking Glass Provides 3D View (PC World) PC World - Developers get early code for new operating system 'skin' still being crafted.\",\n",
       "  'score': 0.06757088005542755},\n",
       " {'id': '2',\n",
       "  'text': \"Oil and Economy Cloud Stocks' Outlook (Reuters) Reuters - Soaring crude prices plus worries\\\\about the economy and the outlook for earnings are expected to\\\\hang over the stock market next week during the depth of the\\\\summer doldrums.\",\n",
       "  'score': 0.06647481769323349},\n",
       " {'id': '56',\n",
       "  'text': 'Stoking the Steamroller No other recording artist can channel American middle-class tastes quite like Chip Davis and his best-selling band',\n",
       "  'score': 0.06426328420639038},\n",
       " {'id': '62',\n",
       "  'text': \"Downhome Pinoy Blues, Intersecting Life Paths, and Heartbreak Songs The Blues is alive and well in the Philippines, as evidenced by this appreciation of the Pinoy Blues band 'Lampano Alley', penned by columnist Clarence Henderson as a counterpoint to his usual economics, business, and culture fare.\",\n",
       "  'score': 0.061212047934532166},\n",
       " {'id': '31',\n",
       "  'text': 'Veteran inventor in market float Trevor Baylis, the veteran inventor famous for creating the Freeplay clockwork radio, is planning to float his company on the stock market.',\n",
       "  'score': 0.060136135667562485},\n",
       " {'id': '48',\n",
       "  'text': 'For Sale: The Ultimate Status Symbol With the country in need of cash and rich people dying to show off their wealth, Mr. Stein proposes a unique solution: having the government sell titles of nobility.',\n",
       "  'score': 0.05965977534651756},\n",
       " {'id': '33',\n",
       "  'text': \"Saudi phone sector gets \\\\$1bn lift A group led by the UAE's Etisalat plans to spend \\\\$1bn (544m) on expansion after winning two mobile phone licences in Saudi Arabia.\",\n",
       "  'score': 0.05780696123838425},\n",
       " {'id': '24',\n",
       "  'text': 'Car prices down across the board The cost of buying both new and second hand cars fell sharply over the past five years, a new survey has found.',\n",
       "  'score': 0.052218399941921234}]"
      ]
     },
     "execution_count": 8,
     "metadata": {},
     "output_type": "execute_result"
    }
   ],
   "source": [
    "embeddings.search(\"positive apple\", limit=50)"
   ]
  },
  {
   "cell_type": "code",
   "execution_count": null,
   "metadata": {},
   "outputs": [],
   "source": []
  }
 ],
 "metadata": {
  "kernelspec": {
   "display_name": "Python 3 (ipykernel)",
   "language": "python",
   "name": "python3"
  },
  "language_info": {
   "codemirror_mode": {
    "name": "ipython",
    "version": 3
   },
   "file_extension": ".py",
   "mimetype": "text/x-python",
   "name": "python",
   "nbconvert_exporter": "python",
   "pygments_lexer": "ipython3",
   "version": "3.9.16"
  },
  "vscode": {
   "interpreter": {
    "hash": "949777d72b0d2535278d3dc13498b2535136f6dfe0678499012e853ee9abcab1"
   }
  }
 },
 "nbformat": 4,
 "nbformat_minor": 4
}
