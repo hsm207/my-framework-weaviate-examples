{
 "cells": [
  {
   "attachments": {},
   "cell_type": "markdown",
   "metadata": {},
   "source": [
    "# Imports"
   ]
  },
  {
   "cell_type": "code",
   "execution_count": 4,
   "metadata": {},
   "outputs": [],
   "source": [
    "from docarray import DocumentArray\n",
    "from docarray import Document\n",
    "import numpy as np\n"
   ]
  },
  {
   "attachments": {},
   "cell_type": "markdown",
   "metadata": {},
   "source": [
    "# Setup"
   ]
  },
  {
   "attachments": {},
   "cell_type": "markdown",
   "metadata": {},
   "source": [
    "Create a document array using annlite as the store:"
   ]
  },
  {
   "cell_type": "code",
   "execution_count": 5,
   "metadata": {},
   "outputs": [],
   "source": [
    "n_dim = 3\n",
    "da = DocumentArray(\n",
    "    storage='annlite',\n",
    "    config={\n",
    "        'n_dim': n_dim,\n",
    "        'columns': {'price': 'float'},\n",
    "    },\n",
    ")\n"
   ]
  },
  {
   "attachments": {},
   "cell_type": "markdown",
   "metadata": {},
   "source": [
    "Import some docs:"
   ]
  },
  {
   "cell_type": "code",
   "execution_count": 6,
   "metadata": {},
   "outputs": [
    {
     "name": "stdout",
     "output_type": "stream",
     "text": [
      "\n",
      "Indexed Prices:\n",
      "\n",
      "\t price=0\n",
      "\t price=1\n",
      "\t price=2\n",
      "\t price=3\n",
      "\t price=4\n",
      "\t price=5\n",
      "\t price=6\n",
      "\t price=7\n",
      "\t price=8\n",
      "\t price=9\n"
     ]
    }
   ],
   "source": [
    "with da:\n",
    "    da.extend([Document(id=f'r{i}', tags={'price': i}) for i in range(10)])\n",
    "\n",
    "print('\\nIndexed Prices:\\n')\n",
    "for price in da[:, 'tags__price']:\n",
    "    print(f'\\t price={price}')\n"
   ]
  },
  {
   "attachments": {},
   "cell_type": "markdown",
   "metadata": {},
   "source": [
    "# Scalar Search"
   ]
  },
  {
   "cell_type": "code",
   "execution_count": 7,
   "metadata": {},
   "outputs": [
    {
     "name": "stdout",
     "output_type": "stream",
     "text": [
      "\n",
      " Returned examples that verify filter \"price at most 3\":\n",
      "\n",
      "\t price=0\n",
      "\t price=1\n",
      "\t price=2\n",
      "\t price=3\n"
     ]
    }
   ],
   "source": [
    "max_price = 3\n",
    "n_limit = 4\n",
    "\n",
    "filter = {'price': {'$lte': max_price}}\n",
    "results = da.find(filter=filter)\n",
    "\n",
    "print('\\n Returned examples that verify filter \"price at most 3\":\\n')\n",
    "for price in results[:, 'tags__price']:\n",
    "    print(f'\\t price={price}')\n"
   ]
  }
 ],
 "metadata": {
  "kernelspec": {
   "display_name": "Python 3",
   "language": "python",
   "name": "python3"
  },
  "language_info": {
   "codemirror_mode": {
    "name": "ipython",
    "version": 3
   },
   "file_extension": ".py",
   "mimetype": "text/x-python",
   "name": "python",
   "nbconvert_exporter": "python",
   "pygments_lexer": "ipython3",
   "version": "3.9.16"
  },
  "orig_nbformat": 4,
  "vscode": {
   "interpreter": {
    "hash": "949777d72b0d2535278d3dc13498b2535136f6dfe0678499012e853ee9abcab1"
   }
  }
 },
 "nbformat": 4,
 "nbformat_minor": 2
}
