{
 "cells": [
  {
   "attachments": {},
   "cell_type": "markdown",
   "metadata": {},
   "source": [
    "# Imports"
   ]
  },
  {
   "cell_type": "code",
   "execution_count": 8,
   "metadata": {},
   "outputs": [
    {
     "name": "stderr",
     "output_type": "stream",
     "text": [
      "/usr/local/lib/python3.9/site-packages/tqdm/auto.py:22: TqdmWarning: IProgress not found. Please update jupyter and ipywidgets. See https://ipywidgets.readthedocs.io/en/stable/user_install.html\n",
      "  from .autonotebook import tqdm as notebook_tqdm\n",
      "2023-01-02 20:05:15.209502: W tensorflow/stream_executor/platform/default/dso_loader.cc:64] Could not load dynamic library 'libcudart.so.11.0'; dlerror: libcudart.so.11.0: cannot open shared object file: No such file or directory\n",
      "2023-01-02 20:05:15.209529: I tensorflow/stream_executor/cuda/cudart_stub.cc:29] Ignore above cudart dlerror if you do not have a GPU set up on your machine.\n",
      "/usr/local/lib/python3.9/site-packages/tensorflow/python/framework/dtypes.py:209: DeprecationWarning: `np.bool8` is a deprecated alias for `np.bool_`.  (Deprecated NumPy 1.24)\n",
      "  np.bool8: (False, True),\n",
      "/usr/local/lib/python3.9/site-packages/tensorboard/compat/tensorflow_stub/dtypes.py:326: DeprecationWarning: `np.bool8` is a deprecated alias for `np.bool_`.  (Deprecated NumPy 1.24)\n",
      "  np.bool8: (False, True),\n"
     ]
    }
   ],
   "source": [
    "from docarray import DocumentArray\n",
    "from docarray import Document\n",
    "from transformers import AutoModel, AutoTokenizer\n"
   ]
  },
  {
   "attachments": {},
   "cell_type": "markdown",
   "metadata": {},
   "source": [
    "# Setup"
   ]
  },
  {
   "attachments": {},
   "cell_type": "markdown",
   "metadata": {},
   "source": [
    "Import some documents:"
   ]
  },
  {
   "cell_type": "code",
   "execution_count": 7,
   "metadata": {},
   "outputs": [],
   "source": [
    "da = DocumentArray(storage='weaviate', config={'host': 'weaviate'})\n",
    "\n",
    "with da:\n",
    "    da.extend(\n",
    "        [\n",
    "            Document(text='Persist Documents with Weaviate.'),\n",
    "            Document(text='And enjoy fast nearest neighbor search.'),\n",
    "            Document(text='All while using DocArray API.'),\n",
    "        ]\n",
    "    )\n"
   ]
  },
  {
   "attachments": {},
   "cell_type": "markdown",
   "metadata": {},
   "source": [
    "Create embeddings for the imported documents:"
   ]
  },
  {
   "cell_type": "code",
   "execution_count": 9,
   "metadata": {},
   "outputs": [
    {
     "name": "stderr",
     "output_type": "stream",
     "text": [
      "Downloading: 100%|██████████| 28.0/28.0 [00:00<00:00, 15.7kB/s]\n",
      "Downloading: 100%|██████████| 570/570 [00:00<00:00, 445kB/s]\n",
      "Downloading: 100%|██████████| 232k/232k [00:00<00:00, 27.0MB/s]\n",
      "Downloading: 100%|██████████| 466k/466k [00:00<00:00, 30.2MB/s]\n",
      "Downloading: 100%|██████████| 440M/440M [00:14<00:00, 30.8MB/s] \n",
      "Some weights of the model checkpoint at bert-base-uncased were not used when initializing BertModel: ['cls.predictions.decoder.weight', 'cls.predictions.transform.LayerNorm.bias', 'cls.predictions.transform.LayerNorm.weight', 'cls.predictions.bias', 'cls.seq_relationship.bias', 'cls.predictions.transform.dense.bias', 'cls.predictions.transform.dense.weight', 'cls.seq_relationship.weight']\n",
      "- This IS expected if you are initializing BertModel from the checkpoint of a model trained on another task or with another architecture (e.g. initializing a BertForSequenceClassification model from a BertForPreTraining model).\n",
      "- This IS NOT expected if you are initializing BertModel from the checkpoint of a model that you expect to be exactly identical (initializing a BertForSequenceClassification model from a BertForSequenceClassification model).\n",
      "/workspaces/docarray/docarray/docarray/array/mixins/embed.py:101: UserWarning: To copy construct from a tensor, it is recommended to use sourceTensor.clone().detach() or sourceTensor.clone().detach().requires_grad_(True), rather than torch.tensor(sourceTensor).\n",
      "  batch_inputs[k] = torch.tensor(v, device=device)\n",
      "/usr/local/lib/python3.9/site-packages/weaviate/batch/crud_batch.py:922: RuntimeWarning: The BatchExecutor was shutdown, most probably when it exited the `with` statement. It will be initialized again. If you are not `batch` in the `with client.batch as batch` please make sure to shut it down when done importing data: `client.batch.shutdown()`. You can start it again using the `client.batch.start()` method.\n",
      "  warnings.warn(\n"
     ]
    },
    {
     "data": {
      "text/html": [
       "<pre style=\"white-space:pre;overflow-x:auto;line-height:normal;font-family:Menlo,'DejaVu Sans Mono',consolas,'Courier New',monospace\">╭────────────────── Documents Summary ───────────────────╮\n",
       "│                                                        │\n",
       "│   Type                   DocumentArrayWeaviate         │\n",
       "│   Length                 <span style=\"color: #008080; text-decoration-color: #008080; font-weight: bold\">3</span>                             │\n",
       "│   Homogenous Documents   <span style=\"color: #00ff00; text-decoration-color: #00ff00; font-style: italic\">True</span>                          │\n",
       "│   Common Attributes      <span style=\"font-weight: bold\">(</span><span style=\"color: #008000; text-decoration-color: #008000\">'id'</span>, <span style=\"color: #008000; text-decoration-color: #008000\">'text'</span>, <span style=\"color: #008000; text-decoration-color: #008000\">'embedding'</span><span style=\"font-weight: bold\">)</span>   │\n",
       "│   Multimodal dataclass   <span style=\"color: #ff0000; text-decoration-color: #ff0000; font-style: italic\">False</span>                         │\n",
       "│                                                        │\n",
       "╰────────────────────────────────────────────────────────╯\n",
       "╭────────────────────── Attributes Summary ──────────────────────╮\n",
       "│                                                                │\n",
       "│  <span style=\"font-weight: bold\"> Attribute </span> <span style=\"font-weight: bold\"> Data type   </span> <span style=\"font-weight: bold\"> #Unique values </span> <span style=\"font-weight: bold\"> Has empty value </span>  │\n",
       "│  ────────────────────────────────────────────────────────────  │\n",
       "│   embedding   <span style=\"font-weight: bold\">(</span><span style=\"color: #008000; text-decoration-color: #008000\">'Tensor'</span>,<span style=\"font-weight: bold\">)</span>   <span style=\"color: #008080; text-decoration-color: #008080; font-weight: bold\">3</span>                <span style=\"color: #ff0000; text-decoration-color: #ff0000; font-style: italic\">False</span>             │\n",
       "│   id          <span style=\"font-weight: bold\">(</span><span style=\"color: #008000; text-decoration-color: #008000\">'str'</span>,<span style=\"font-weight: bold\">)</span>      <span style=\"color: #008080; text-decoration-color: #008080; font-weight: bold\">3</span>                <span style=\"color: #ff0000; text-decoration-color: #ff0000; font-style: italic\">False</span>             │\n",
       "│   text        <span style=\"font-weight: bold\">(</span><span style=\"color: #008000; text-decoration-color: #008000\">'str'</span>,<span style=\"font-weight: bold\">)</span>      <span style=\"color: #008080; text-decoration-color: #008080; font-weight: bold\">3</span>                <span style=\"color: #ff0000; text-decoration-color: #ff0000; font-style: italic\">False</span>             │\n",
       "│                                                                │\n",
       "╰────────────────────────────────────────────────────────────────╯\n",
       "╭──────────────────── <span style=\"font-weight: bold\">DocumentArrayWeaviate</span> Config ────────────────────╮\n",
       "│                                                                      │\n",
       "│   host                       weaviate                                │\n",
       "│   port                       <span style=\"color: #008080; text-decoration-color: #008080; font-weight: bold\">8080</span>                                    │\n",
       "│   protocol                   http                                    │\n",
       "│   name                       Class6ba22a2830c84109bbcf4d88a30d9fdc   │\n",
       "│   list_like                  <span style=\"color: #00ff00; text-decoration-color: #00ff00; font-style: italic\">True</span>                                    │\n",
       "│   serialize_config           <span style=\"font-weight: bold\">{}</span>                                      │\n",
       "│   n_dim                      <span style=\"color: #800080; text-decoration-color: #800080; font-style: italic\">None</span>                                    │\n",
       "│   ef                         <span style=\"color: #800080; text-decoration-color: #800080; font-style: italic\">None</span>                                    │\n",
       "│   ef_construction            <span style=\"color: #800080; text-decoration-color: #800080; font-style: italic\">None</span>                                    │\n",
       "│   timeout_config             <span style=\"font-weight: bold\">(</span><span style=\"color: #008080; text-decoration-color: #008080; font-weight: bold\">10</span>, <span style=\"color: #008080; text-decoration-color: #008080; font-weight: bold\">60</span><span style=\"font-weight: bold\">)</span>                                │\n",
       "│   max_connections            <span style=\"color: #800080; text-decoration-color: #800080; font-style: italic\">None</span>                                    │\n",
       "│   dynamic_ef_min             <span style=\"color: #800080; text-decoration-color: #800080; font-style: italic\">None</span>                                    │\n",
       "│   dynamic_ef_max             <span style=\"color: #800080; text-decoration-color: #800080; font-style: italic\">None</span>                                    │\n",
       "│   dynamic_ef_factor          <span style=\"color: #800080; text-decoration-color: #800080; font-style: italic\">None</span>                                    │\n",
       "│   vector_cache_max_objects   <span style=\"color: #800080; text-decoration-color: #800080; font-style: italic\">None</span>                                    │\n",
       "│   flat_search_cutoff         <span style=\"color: #800080; text-decoration-color: #800080; font-style: italic\">None</span>                                    │\n",
       "│   cleanup_interval_seconds   <span style=\"color: #800080; text-decoration-color: #800080; font-style: italic\">None</span>                                    │\n",
       "│   skip                       <span style=\"color: #800080; text-decoration-color: #800080; font-style: italic\">None</span>                                    │\n",
       "│   columns                    <span style=\"font-weight: bold\">{}</span>                                      │\n",
       "│   distance                   <span style=\"color: #800080; text-decoration-color: #800080; font-style: italic\">None</span>                                    │\n",
       "│   batch_size                 <span style=\"color: #008080; text-decoration-color: #008080; font-weight: bold\">50</span>                                      │\n",
       "│   dynamic_batching           <span style=\"color: #ff0000; text-decoration-color: #ff0000; font-style: italic\">False</span>                                   │\n",
       "│   root_id                    <span style=\"color: #00ff00; text-decoration-color: #00ff00; font-style: italic\">True</span>                                    │\n",
       "│                                                                      │\n",
       "╰──────────────────────────────────────────────────────────────────────╯\n",
       "</pre>\n"
      ],
      "text/plain": [
       "╭────────────────── Documents Summary ───────────────────╮\n",
       "│                                                        │\n",
       "│   Type                   DocumentArrayWeaviate         │\n",
       "│   Length                 \u001b[1;36m3\u001b[0m                             │\n",
       "│   Homogenous Documents   \u001b[3;92mTrue\u001b[0m                          │\n",
       "│   Common Attributes      \u001b[1m(\u001b[0m\u001b[32m'id'\u001b[0m, \u001b[32m'text'\u001b[0m, \u001b[32m'embedding'\u001b[0m\u001b[1m)\u001b[0m   │\n",
       "│   Multimodal dataclass   \u001b[3;91mFalse\u001b[0m                         │\n",
       "│                                                        │\n",
       "╰────────────────────────────────────────────────────────╯\n",
       "╭────────────────────── Attributes Summary ──────────────────────╮\n",
       "│                                                                │\n",
       "│  \u001b[1m \u001b[0m\u001b[1mAttribute\u001b[0m\u001b[1m \u001b[0m \u001b[1m \u001b[0m\u001b[1mData type  \u001b[0m\u001b[1m \u001b[0m \u001b[1m \u001b[0m\u001b[1m#Unique values\u001b[0m\u001b[1m \u001b[0m \u001b[1m \u001b[0m\u001b[1mHas empty value\u001b[0m\u001b[1m \u001b[0m  │\n",
       "│  ────────────────────────────────────────────────────────────  │\n",
       "│   embedding   \u001b[1m(\u001b[0m\u001b[32m'Tensor'\u001b[0m,\u001b[1m)\u001b[0m   \u001b[1;36m3\u001b[0m                \u001b[3;91mFalse\u001b[0m             │\n",
       "│   id          \u001b[1m(\u001b[0m\u001b[32m'str'\u001b[0m,\u001b[1m)\u001b[0m      \u001b[1;36m3\u001b[0m                \u001b[3;91mFalse\u001b[0m             │\n",
       "│   text        \u001b[1m(\u001b[0m\u001b[32m'str'\u001b[0m,\u001b[1m)\u001b[0m      \u001b[1;36m3\u001b[0m                \u001b[3;91mFalse\u001b[0m             │\n",
       "│                                                                │\n",
       "╰────────────────────────────────────────────────────────────────╯\n",
       "╭──────────────────── \u001b[1mDocumentArrayWeaviate\u001b[0m Config ────────────────────╮\n",
       "│                                                                      │\n",
       "│   host                       weaviate                                │\n",
       "│   port                       \u001b[1;36m8080\u001b[0m                                    │\n",
       "│   protocol                   http                                    │\n",
       "│   name                       Class6ba22a2830c84109bbcf4d88a30d9fdc   │\n",
       "│   list_like                  \u001b[3;92mTrue\u001b[0m                                    │\n",
       "│   serialize_config           \u001b[1m{\u001b[0m\u001b[1m}\u001b[0m                                      │\n",
       "│   n_dim                      \u001b[3;35mNone\u001b[0m                                    │\n",
       "│   ef                         \u001b[3;35mNone\u001b[0m                                    │\n",
       "│   ef_construction            \u001b[3;35mNone\u001b[0m                                    │\n",
       "│   timeout_config             \u001b[1m(\u001b[0m\u001b[1;36m10\u001b[0m, \u001b[1;36m60\u001b[0m\u001b[1m)\u001b[0m                                │\n",
       "│   max_connections            \u001b[3;35mNone\u001b[0m                                    │\n",
       "│   dynamic_ef_min             \u001b[3;35mNone\u001b[0m                                    │\n",
       "│   dynamic_ef_max             \u001b[3;35mNone\u001b[0m                                    │\n",
       "│   dynamic_ef_factor          \u001b[3;35mNone\u001b[0m                                    │\n",
       "│   vector_cache_max_objects   \u001b[3;35mNone\u001b[0m                                    │\n",
       "│   flat_search_cutoff         \u001b[3;35mNone\u001b[0m                                    │\n",
       "│   cleanup_interval_seconds   \u001b[3;35mNone\u001b[0m                                    │\n",
       "│   skip                       \u001b[3;35mNone\u001b[0m                                    │\n",
       "│   columns                    \u001b[1m{\u001b[0m\u001b[1m}\u001b[0m                                      │\n",
       "│   distance                   \u001b[3;35mNone\u001b[0m                                    │\n",
       "│   batch_size                 \u001b[1;36m50\u001b[0m                                      │\n",
       "│   dynamic_batching           \u001b[3;91mFalse\u001b[0m                                   │\n",
       "│   root_id                    \u001b[3;92mTrue\u001b[0m                                    │\n",
       "│                                                                      │\n",
       "╰──────────────────────────────────────────────────────────────────────╯\n"
      ]
     },
     "metadata": {},
     "output_type": "display_data"
    }
   ],
   "source": [
    "tokenizer = AutoTokenizer.from_pretrained('bert-base-uncased')\n",
    "model = AutoModel.from_pretrained('bert-base-uncased')\n",
    "\n",
    "\n",
    "def collate_fn(da):\n",
    "    return tokenizer(da.texts, return_tensors='pt', truncation=True, padding=True)\n",
    "\n",
    "\n",
    "da.embed(model, collate_fn=collate_fn)\n"
   ]
  },
  {
   "attachments": {},
   "cell_type": "markdown",
   "metadata": {},
   "source": [
    "# Semantic Search"
   ]
  },
  {
   "cell_type": "code",
   "execution_count": 11,
   "metadata": {},
   "outputs": [
    {
     "data": {
      "text/plain": [
       "['Persist Documents with Weaviate.']"
      ]
     },
     "execution_count": 11,
     "metadata": {},
     "output_type": "execute_result"
    }
   ],
   "source": [
    "results = da.find(\n",
    "    DocumentArray([Document(text='How to persist Documents')]).embed(\n",
    "        model, collate_fn=collate_fn\n",
    "    ),\n",
    "    limit=1,\n",
    ")\n",
    "\n",
    "results[0].texts\n"
   ]
  }
 ],
 "metadata": {
  "kernelspec": {
   "display_name": "Python 3",
   "language": "python",
   "name": "python3"
  },
  "language_info": {
   "codemirror_mode": {
    "name": "ipython",
    "version": 3
   },
   "file_extension": ".py",
   "mimetype": "text/x-python",
   "name": "python",
   "nbconvert_exporter": "python",
   "pygments_lexer": "ipython3",
   "version": "3.9.16"
  },
  "orig_nbformat": 4,
  "vscode": {
   "interpreter": {
    "hash": "949777d72b0d2535278d3dc13498b2535136f6dfe0678499012e853ee9abcab1"
   }
  }
 },
 "nbformat": 4,
 "nbformat_minor": 2
}
